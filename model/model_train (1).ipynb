{
  "cells": [
    {
      "cell_type": "code",
      "execution_count": null,
      "metadata": {
        "id": "__bqIbeRFofW"
      },
      "outputs": [],
      "source": [
        "import pandas as pd\n",
        "import io\n",
        "import numpy as np\n",
        "import matplotlib.pyplot as plt"
      ]
    },
    {
      "cell_type": "code",
      "source": [],
      "metadata": {
        "id": "zwqJtORY1qgp"
      },
      "execution_count": null,
      "outputs": []
    },
    {
      "cell_type": "code",
      "execution_count": null,
      "metadata": {
        "id": "2v5GshKzMDyH",
        "colab": {
          "base_uri": "https://localhost:8080/",
          "height": 334
        },
        "outputId": "45cb6f3e-a181-4372-828d-4369fde868ea"
      },
      "outputs": [
        {
          "output_type": "stream",
          "name": "stderr",
          "text": [
            "<ipython-input-181-2555622b1fba>:1: DtypeWarning: Columns (16,17,18,22,23,24,25,26,27,28,29,30,31,32,33,76) have mixed types. Specify dtype option on import or set low_memory=False.\n",
            "  all_data=pd.read_csv(\"/content/sample_data/Mortality_09_UP.csv\",nrows=25175)\n"
          ]
        },
        {
          "output_type": "execute_result",
          "data": {
            "text/plain": [
              "       id   m_id  client_m_id   hl_id  house_no  house_hold_no  state  \\\n",
              "0  712232  375.0          NaN  2944.0        63              3      9   \n",
              "1  712240  383.0          NaN  2997.0        28              1      9   \n",
              "2  109886  246.0          NaN     NaN        58              1      9   \n",
              "3  712216  359.0          NaN  2706.0       196              1      9   \n",
              "4  712224  367.0          NaN  2777.0       253              1      9   \n",
              "\n",
              "   district  rural  stratum_code  ...  householdstatus  isheadchanged  \\\n",
              "0        58      1             1  ...              NaN            NaN   \n",
              "1        58      1             1  ...              NaN            NaN   \n",
              "2        62      1             2  ...              1.0            1.0   \n",
              "3        58      1             1  ...              NaN            NaN   \n",
              "4        58      1             1  ...              NaN            NaN   \n",
              "\n",
              "           fidh          fidx        as     wt   x schedule_id year  v126  \n",
              "0           NaN  2.944096e+10 -0.630351  68.37 NaN           4    1   NaN  \n",
              "1           NaN  2.997096e+10 -4.369212  68.37 NaN           4    1   NaN  \n",
              "2  9.620340e+13           NaN       NaN  20.95 NaN           4    3   NaN  \n",
              "3           NaN  2.706096e+10 -2.996541  68.37 NaN           4    1   NaN  \n",
              "4           NaN  2.777096e+10 -3.951137  68.37 NaN           4    1   NaN  \n",
              "\n",
              "[5 rows x 122 columns]"
            ],
            "text/html": [
              "\n",
              "  <div id=\"df-f933c536-1879-45e7-909e-bcaa9185f1b3\">\n",
              "    <div class=\"colab-df-container\">\n",
              "      <div>\n",
              "<style scoped>\n",
              "    .dataframe tbody tr th:only-of-type {\n",
              "        vertical-align: middle;\n",
              "    }\n",
              "\n",
              "    .dataframe tbody tr th {\n",
              "        vertical-align: top;\n",
              "    }\n",
              "\n",
              "    .dataframe thead th {\n",
              "        text-align: right;\n",
              "    }\n",
              "</style>\n",
              "<table border=\"1\" class=\"dataframe\">\n",
              "  <thead>\n",
              "    <tr style=\"text-align: right;\">\n",
              "      <th></th>\n",
              "      <th>id</th>\n",
              "      <th>m_id</th>\n",
              "      <th>client_m_id</th>\n",
              "      <th>hl_id</th>\n",
              "      <th>house_no</th>\n",
              "      <th>house_hold_no</th>\n",
              "      <th>state</th>\n",
              "      <th>district</th>\n",
              "      <th>rural</th>\n",
              "      <th>stratum_code</th>\n",
              "      <th>...</th>\n",
              "      <th>householdstatus</th>\n",
              "      <th>isheadchanged</th>\n",
              "      <th>fidh</th>\n",
              "      <th>fidx</th>\n",
              "      <th>as</th>\n",
              "      <th>wt</th>\n",
              "      <th>x</th>\n",
              "      <th>schedule_id</th>\n",
              "      <th>year</th>\n",
              "      <th>v126</th>\n",
              "    </tr>\n",
              "  </thead>\n",
              "  <tbody>\n",
              "    <tr>\n",
              "      <th>0</th>\n",
              "      <td>712232</td>\n",
              "      <td>375.0</td>\n",
              "      <td>NaN</td>\n",
              "      <td>2944.0</td>\n",
              "      <td>63</td>\n",
              "      <td>3</td>\n",
              "      <td>9</td>\n",
              "      <td>58</td>\n",
              "      <td>1</td>\n",
              "      <td>1</td>\n",
              "      <td>...</td>\n",
              "      <td>NaN</td>\n",
              "      <td>NaN</td>\n",
              "      <td>NaN</td>\n",
              "      <td>2.944096e+10</td>\n",
              "      <td>-0.630351</td>\n",
              "      <td>68.37</td>\n",
              "      <td>NaN</td>\n",
              "      <td>4</td>\n",
              "      <td>1</td>\n",
              "      <td>NaN</td>\n",
              "    </tr>\n",
              "    <tr>\n",
              "      <th>1</th>\n",
              "      <td>712240</td>\n",
              "      <td>383.0</td>\n",
              "      <td>NaN</td>\n",
              "      <td>2997.0</td>\n",
              "      <td>28</td>\n",
              "      <td>1</td>\n",
              "      <td>9</td>\n",
              "      <td>58</td>\n",
              "      <td>1</td>\n",
              "      <td>1</td>\n",
              "      <td>...</td>\n",
              "      <td>NaN</td>\n",
              "      <td>NaN</td>\n",
              "      <td>NaN</td>\n",
              "      <td>2.997096e+10</td>\n",
              "      <td>-4.369212</td>\n",
              "      <td>68.37</td>\n",
              "      <td>NaN</td>\n",
              "      <td>4</td>\n",
              "      <td>1</td>\n",
              "      <td>NaN</td>\n",
              "    </tr>\n",
              "    <tr>\n",
              "      <th>2</th>\n",
              "      <td>109886</td>\n",
              "      <td>246.0</td>\n",
              "      <td>NaN</td>\n",
              "      <td>NaN</td>\n",
              "      <td>58</td>\n",
              "      <td>1</td>\n",
              "      <td>9</td>\n",
              "      <td>62</td>\n",
              "      <td>1</td>\n",
              "      <td>2</td>\n",
              "      <td>...</td>\n",
              "      <td>1.0</td>\n",
              "      <td>1.0</td>\n",
              "      <td>9.620340e+13</td>\n",
              "      <td>NaN</td>\n",
              "      <td>NaN</td>\n",
              "      <td>20.95</td>\n",
              "      <td>NaN</td>\n",
              "      <td>4</td>\n",
              "      <td>3</td>\n",
              "      <td>NaN</td>\n",
              "    </tr>\n",
              "    <tr>\n",
              "      <th>3</th>\n",
              "      <td>712216</td>\n",
              "      <td>359.0</td>\n",
              "      <td>NaN</td>\n",
              "      <td>2706.0</td>\n",
              "      <td>196</td>\n",
              "      <td>1</td>\n",
              "      <td>9</td>\n",
              "      <td>58</td>\n",
              "      <td>1</td>\n",
              "      <td>1</td>\n",
              "      <td>...</td>\n",
              "      <td>NaN</td>\n",
              "      <td>NaN</td>\n",
              "      <td>NaN</td>\n",
              "      <td>2.706096e+10</td>\n",
              "      <td>-2.996541</td>\n",
              "      <td>68.37</td>\n",
              "      <td>NaN</td>\n",
              "      <td>4</td>\n",
              "      <td>1</td>\n",
              "      <td>NaN</td>\n",
              "    </tr>\n",
              "    <tr>\n",
              "      <th>4</th>\n",
              "      <td>712224</td>\n",
              "      <td>367.0</td>\n",
              "      <td>NaN</td>\n",
              "      <td>2777.0</td>\n",
              "      <td>253</td>\n",
              "      <td>1</td>\n",
              "      <td>9</td>\n",
              "      <td>58</td>\n",
              "      <td>1</td>\n",
              "      <td>1</td>\n",
              "      <td>...</td>\n",
              "      <td>NaN</td>\n",
              "      <td>NaN</td>\n",
              "      <td>NaN</td>\n",
              "      <td>2.777096e+10</td>\n",
              "      <td>-3.951137</td>\n",
              "      <td>68.37</td>\n",
              "      <td>NaN</td>\n",
              "      <td>4</td>\n",
              "      <td>1</td>\n",
              "      <td>NaN</td>\n",
              "    </tr>\n",
              "  </tbody>\n",
              "</table>\n",
              "<p>5 rows × 122 columns</p>\n",
              "</div>\n",
              "      <button class=\"colab-df-convert\" onclick=\"convertToInteractive('df-f933c536-1879-45e7-909e-bcaa9185f1b3')\"\n",
              "              title=\"Convert this dataframe to an interactive table.\"\n",
              "              style=\"display:none;\">\n",
              "        \n",
              "  <svg xmlns=\"http://www.w3.org/2000/svg\" height=\"24px\"viewBox=\"0 0 24 24\"\n",
              "       width=\"24px\">\n",
              "    <path d=\"M0 0h24v24H0V0z\" fill=\"none\"/>\n",
              "    <path d=\"M18.56 5.44l.94 2.06.94-2.06 2.06-.94-2.06-.94-.94-2.06-.94 2.06-2.06.94zm-11 1L8.5 8.5l.94-2.06 2.06-.94-2.06-.94L8.5 2.5l-.94 2.06-2.06.94zm10 10l.94 2.06.94-2.06 2.06-.94-2.06-.94-.94-2.06-.94 2.06-2.06.94z\"/><path d=\"M17.41 7.96l-1.37-1.37c-.4-.4-.92-.59-1.43-.59-.52 0-1.04.2-1.43.59L10.3 9.45l-7.72 7.72c-.78.78-.78 2.05 0 2.83L4 21.41c.39.39.9.59 1.41.59.51 0 1.02-.2 1.41-.59l7.78-7.78 2.81-2.81c.8-.78.8-2.07 0-2.86zM5.41 20L4 18.59l7.72-7.72 1.47 1.35L5.41 20z\"/>\n",
              "  </svg>\n",
              "      </button>\n",
              "      \n",
              "  <style>\n",
              "    .colab-df-container {\n",
              "      display:flex;\n",
              "      flex-wrap:wrap;\n",
              "      gap: 12px;\n",
              "    }\n",
              "\n",
              "    .colab-df-convert {\n",
              "      background-color: #E8F0FE;\n",
              "      border: none;\n",
              "      border-radius: 50%;\n",
              "      cursor: pointer;\n",
              "      display: none;\n",
              "      fill: #1967D2;\n",
              "      height: 32px;\n",
              "      padding: 0 0 0 0;\n",
              "      width: 32px;\n",
              "    }\n",
              "\n",
              "    .colab-df-convert:hover {\n",
              "      background-color: #E2EBFA;\n",
              "      box-shadow: 0px 1px 2px rgba(60, 64, 67, 0.3), 0px 1px 3px 1px rgba(60, 64, 67, 0.15);\n",
              "      fill: #174EA6;\n",
              "    }\n",
              "\n",
              "    [theme=dark] .colab-df-convert {\n",
              "      background-color: #3B4455;\n",
              "      fill: #D2E3FC;\n",
              "    }\n",
              "\n",
              "    [theme=dark] .colab-df-convert:hover {\n",
              "      background-color: #434B5C;\n",
              "      box-shadow: 0px 1px 3px 1px rgba(0, 0, 0, 0.15);\n",
              "      filter: drop-shadow(0px 1px 2px rgba(0, 0, 0, 0.3));\n",
              "      fill: #FFFFFF;\n",
              "    }\n",
              "  </style>\n",
              "\n",
              "      <script>\n",
              "        const buttonEl =\n",
              "          document.querySelector('#df-f933c536-1879-45e7-909e-bcaa9185f1b3 button.colab-df-convert');\n",
              "        buttonEl.style.display =\n",
              "          google.colab.kernel.accessAllowed ? 'block' : 'none';\n",
              "\n",
              "        async function convertToInteractive(key) {\n",
              "          const element = document.querySelector('#df-f933c536-1879-45e7-909e-bcaa9185f1b3');\n",
              "          const dataTable =\n",
              "            await google.colab.kernel.invokeFunction('convertToInteractive',\n",
              "                                                     [key], {});\n",
              "          if (!dataTable) return;\n",
              "\n",
              "          const docLinkHtml = 'Like what you see? Visit the ' +\n",
              "            '<a target=\"_blank\" href=https://colab.research.google.com/notebooks/data_table.ipynb>data table notebook</a>'\n",
              "            + ' to learn more about interactive tables.';\n",
              "          element.innerHTML = '';\n",
              "          dataTable['output_type'] = 'display_data';\n",
              "          await google.colab.output.renderOutput(dataTable, element);\n",
              "          const docLink = document.createElement('div');\n",
              "          docLink.innerHTML = docLinkHtml;\n",
              "          element.appendChild(docLink);\n",
              "        }\n",
              "      </script>\n",
              "    </div>\n",
              "  </div>\n",
              "  "
            ]
          },
          "metadata": {},
          "execution_count": 181
        }
      ],
      "source": [
        "all_data=pd.read_csv(\"/content/sample_data/Mortality_09_UP.csv\",nrows=25175)\n",
        "all_data.head()"
      ]
    },
    {
      "cell_type": "code",
      "source": [
        "print(list(all_data.columns),end='e')"
      ],
      "metadata": {
        "id": "Z1f1XBNr8Mth",
        "colab": {
          "base_uri": "https://localhost:8080/"
        },
        "outputId": "00f93537-705a-4a51-cf13-81dbeb1abda7"
      },
      "execution_count": null,
      "outputs": [
        {
          "output_type": "stream",
          "name": "stdout",
          "text": [
            "['id', 'm_id', 'client_m_id', 'hl_id', 'house_no', 'house_hold_no', 'state', 'district', 'rural', 'stratum_code', 'psu_id', 'm_serial_no', 'deceased_sex', 'date_of_death', 'month_of_death', 'year_of_death', 'age_of_death_below_one_month', 'age_of_death_below_eleven_month', 'age_of_death_above_one_year', 'treatment_source', 'place_of_death', 'is_death_reg', 'is_death_certificate_received', 'serial_num_of_infant_mother', 'order_of_birth', 'death_symptoms', 'is_death_associated_with_pregnan', 'death_period', 'months_of_pregnancy', 'factors_contributing_death', 'factors_contributing_death_2', 'symptoms_of_death', 'time_between_onset_of_complicati', 'nearest_medical_facility', 'm_expall_status', 'field38', 'hh_id', 'client_hh_id', 'currently_dead_or_out_migrated', 'hh_serial_no', 'sex', 'usual_residance', 'relation_to_head', 'member_identity', 'father_serial_no', 'mother_serial_no', 'date_of_birth', 'month_of_birth', 'year_of_birth', 'age', 'religion', 'social_group_code', 'marital_status', 'date_of_marriage', 'month_of_marriage', 'year_of_marriage', 'currently_attending_school', 'reason_for_not_attending_school', 'highest_qualification', 'occupation_status', 'disability_status', 'injury_treatment_type', 'illness_type', 'symptoms_pertaining_illness', 'sought_medical_care', 'diagnosed_for', 'diagnosis_source', 'regular_treatment', 'regular_treatment_source', 'chew', 'smoke', 'alcohol', 'status', 'hh_expall_status', 'client_hl_id', 'serial_no', 'building_no', 'house_status', 'house_structure', 'owner_status', 'drinking_water_source', 'is_water_filter', 'water_filteration', 'toilet_used', 'is_toilet_shared', 'household_have_electricity', 'lighting_source', 'cooking_fuel', 'no_of_dwelling_rooms', 'kitchen_availability', 'is_radio', 'is_television', 'is_computer', 'is_telephone', 'is_washing_machine', 'is_refrigerator', 'is_sewing_machine', 'is_bicycle', 'is_scooter', 'is_car', 'is_tractor', 'is_water_pump', 'cart', 'land_possessed', 'hl_expall_status', 'fid', 'isdeadmigrated', 'residancial_status', 'iscoveredbyhealthscheme', 'healthscheme_1', 'healthscheme_2', 'housestatus', 'householdstatus', 'isheadchanged', 'fidh', 'fidx', 'as', 'wt', 'x', 'schedule_id', 'year', 'v126']e"
          ]
        }
      ]
    },
    {
      "cell_type": "code",
      "execution_count": null,
      "metadata": {
        "id": "K_Z6quqsMJ5L",
        "colab": {
          "base_uri": "https://localhost:8080/"
        },
        "outputId": "4bd9cebc-252d-4681-dbdf-c0ac2b474951"
      },
      "outputs": [
        {
          "output_type": "execute_result",
          "data": {
            "text/plain": [
              "(25175, 122)"
            ]
          },
          "metadata": {},
          "execution_count": 183
        }
      ],
      "source": [
        "all_data.shape"
      ]
    },
    {
      "cell_type": "code",
      "execution_count": null,
      "metadata": {
        "id": "2dRz699vY0bf"
      },
      "outputs": [],
      "source": [
        "columns = [\"age\",\"sex\", \"highest_qualification\", \"rural\", \"disability_status\", \"is_water_filter\", \"chew\", \"smoke\", \"alcohol\",\"treatment_source\"]\n",
        "death = all_data[columns].copy()"
      ]
    },
    {
      "cell_type": "code",
      "source": [
        "death.isnull().sum()"
      ],
      "metadata": {
        "id": "oEb6BQm5O1gW",
        "colab": {
          "base_uri": "https://localhost:8080/"
        },
        "outputId": "726a001e-0382-4104-a314-331c906b86ed"
      },
      "execution_count": null,
      "outputs": [
        {
          "output_type": "execute_result",
          "data": {
            "text/plain": [
              "age                       115\n",
              "sex                       115\n",
              "highest_qualification     167\n",
              "rural                       0\n",
              "disability_status         166\n",
              "is_water_filter          1777\n",
              "chew                     1626\n",
              "smoke                    1626\n",
              "alcohol                  1626\n",
              "treatment_source         1284\n",
              "dtype: int64"
            ]
          },
          "metadata": {},
          "execution_count": 185
        }
      ]
    },
    {
      "cell_type": "code",
      "source": [
        "for i in death.columns:\n",
        "  death[i] = pd.to_numeric(death[i],errors='coerce')"
      ],
      "metadata": {
        "id": "gc4_n89QpesQ"
      },
      "execution_count": null,
      "outputs": []
    },
    {
      "cell_type": "code",
      "source": [
        "for column in columns:\n",
        "    death[column].fillna(death[column].mode().iloc[0], inplace=True)\n"
      ],
      "metadata": {
        "id": "29r2oVXWbGkZ"
      },
      "execution_count": null,
      "outputs": []
    },
    {
      "cell_type": "code",
      "source": [
        "death.isnull().sum()"
      ],
      "metadata": {
        "id": "WIKBYuxLpiqo",
        "colab": {
          "base_uri": "https://localhost:8080/"
        },
        "outputId": "ac1858f5-41d5-42ec-a36d-b001a83bdce9"
      },
      "execution_count": null,
      "outputs": [
        {
          "output_type": "execute_result",
          "data": {
            "text/plain": [
              "age                      0\n",
              "sex                      0\n",
              "highest_qualification    0\n",
              "rural                    0\n",
              "disability_status        0\n",
              "is_water_filter          0\n",
              "chew                     0\n",
              "smoke                    0\n",
              "alcohol                  0\n",
              "treatment_source         0\n",
              "dtype: int64"
            ]
          },
          "metadata": {},
          "execution_count": 188
        }
      ]
    },
    {
      "cell_type": "code",
      "source": [
        "death.head()"
      ],
      "metadata": {
        "id": "CnpmYoLlGclT",
        "colab": {
          "base_uri": "https://localhost:8080/",
          "height": 206
        },
        "outputId": "4dd0b16e-54da-49c8-9350-8640c63d4531"
      },
      "execution_count": null,
      "outputs": [
        {
          "output_type": "execute_result",
          "data": {
            "text/plain": [
              "    age  sex  highest_qualification  rural  disability_status  \\\n",
              "0  43.0  1.0                    4.0      1                0.0   \n",
              "1  70.0  2.0                    0.0      1                0.0   \n",
              "2  57.0  2.0                    3.0      1                0.0   \n",
              "3  50.0  1.0                    0.0      1                0.0   \n",
              "4  65.0  2.0                    0.0      1                0.0   \n",
              "\n",
              "   is_water_filter  chew  smoke  alcohol  treatment_source  \n",
              "0              2.0   7.0    4.0      4.0               0.0  \n",
              "1              2.0   5.0    4.0      4.0               9.0  \n",
              "2              2.0   7.0    4.0      4.0               0.0  \n",
              "3              2.0   1.0    1.0      1.0               9.0  \n",
              "4              2.0   7.0    4.0      4.0               0.0  "
            ],
            "text/html": [
              "\n",
              "  <div id=\"df-1a9c1fb0-237b-4766-9b1e-e7e14a759e39\">\n",
              "    <div class=\"colab-df-container\">\n",
              "      <div>\n",
              "<style scoped>\n",
              "    .dataframe tbody tr th:only-of-type {\n",
              "        vertical-align: middle;\n",
              "    }\n",
              "\n",
              "    .dataframe tbody tr th {\n",
              "        vertical-align: top;\n",
              "    }\n",
              "\n",
              "    .dataframe thead th {\n",
              "        text-align: right;\n",
              "    }\n",
              "</style>\n",
              "<table border=\"1\" class=\"dataframe\">\n",
              "  <thead>\n",
              "    <tr style=\"text-align: right;\">\n",
              "      <th></th>\n",
              "      <th>age</th>\n",
              "      <th>sex</th>\n",
              "      <th>highest_qualification</th>\n",
              "      <th>rural</th>\n",
              "      <th>disability_status</th>\n",
              "      <th>is_water_filter</th>\n",
              "      <th>chew</th>\n",
              "      <th>smoke</th>\n",
              "      <th>alcohol</th>\n",
              "      <th>treatment_source</th>\n",
              "    </tr>\n",
              "  </thead>\n",
              "  <tbody>\n",
              "    <tr>\n",
              "      <th>0</th>\n",
              "      <td>43.0</td>\n",
              "      <td>1.0</td>\n",
              "      <td>4.0</td>\n",
              "      <td>1</td>\n",
              "      <td>0.0</td>\n",
              "      <td>2.0</td>\n",
              "      <td>7.0</td>\n",
              "      <td>4.0</td>\n",
              "      <td>4.0</td>\n",
              "      <td>0.0</td>\n",
              "    </tr>\n",
              "    <tr>\n",
              "      <th>1</th>\n",
              "      <td>70.0</td>\n",
              "      <td>2.0</td>\n",
              "      <td>0.0</td>\n",
              "      <td>1</td>\n",
              "      <td>0.0</td>\n",
              "      <td>2.0</td>\n",
              "      <td>5.0</td>\n",
              "      <td>4.0</td>\n",
              "      <td>4.0</td>\n",
              "      <td>9.0</td>\n",
              "    </tr>\n",
              "    <tr>\n",
              "      <th>2</th>\n",
              "      <td>57.0</td>\n",
              "      <td>2.0</td>\n",
              "      <td>3.0</td>\n",
              "      <td>1</td>\n",
              "      <td>0.0</td>\n",
              "      <td>2.0</td>\n",
              "      <td>7.0</td>\n",
              "      <td>4.0</td>\n",
              "      <td>4.0</td>\n",
              "      <td>0.0</td>\n",
              "    </tr>\n",
              "    <tr>\n",
              "      <th>3</th>\n",
              "      <td>50.0</td>\n",
              "      <td>1.0</td>\n",
              "      <td>0.0</td>\n",
              "      <td>1</td>\n",
              "      <td>0.0</td>\n",
              "      <td>2.0</td>\n",
              "      <td>1.0</td>\n",
              "      <td>1.0</td>\n",
              "      <td>1.0</td>\n",
              "      <td>9.0</td>\n",
              "    </tr>\n",
              "    <tr>\n",
              "      <th>4</th>\n",
              "      <td>65.0</td>\n",
              "      <td>2.0</td>\n",
              "      <td>0.0</td>\n",
              "      <td>1</td>\n",
              "      <td>0.0</td>\n",
              "      <td>2.0</td>\n",
              "      <td>7.0</td>\n",
              "      <td>4.0</td>\n",
              "      <td>4.0</td>\n",
              "      <td>0.0</td>\n",
              "    </tr>\n",
              "  </tbody>\n",
              "</table>\n",
              "</div>\n",
              "      <button class=\"colab-df-convert\" onclick=\"convertToInteractive('df-1a9c1fb0-237b-4766-9b1e-e7e14a759e39')\"\n",
              "              title=\"Convert this dataframe to an interactive table.\"\n",
              "              style=\"display:none;\">\n",
              "        \n",
              "  <svg xmlns=\"http://www.w3.org/2000/svg\" height=\"24px\"viewBox=\"0 0 24 24\"\n",
              "       width=\"24px\">\n",
              "    <path d=\"M0 0h24v24H0V0z\" fill=\"none\"/>\n",
              "    <path d=\"M18.56 5.44l.94 2.06.94-2.06 2.06-.94-2.06-.94-.94-2.06-.94 2.06-2.06.94zm-11 1L8.5 8.5l.94-2.06 2.06-.94-2.06-.94L8.5 2.5l-.94 2.06-2.06.94zm10 10l.94 2.06.94-2.06 2.06-.94-2.06-.94-.94-2.06-.94 2.06-2.06.94z\"/><path d=\"M17.41 7.96l-1.37-1.37c-.4-.4-.92-.59-1.43-.59-.52 0-1.04.2-1.43.59L10.3 9.45l-7.72 7.72c-.78.78-.78 2.05 0 2.83L4 21.41c.39.39.9.59 1.41.59.51 0 1.02-.2 1.41-.59l7.78-7.78 2.81-2.81c.8-.78.8-2.07 0-2.86zM5.41 20L4 18.59l7.72-7.72 1.47 1.35L5.41 20z\"/>\n",
              "  </svg>\n",
              "      </button>\n",
              "      \n",
              "  <style>\n",
              "    .colab-df-container {\n",
              "      display:flex;\n",
              "      flex-wrap:wrap;\n",
              "      gap: 12px;\n",
              "    }\n",
              "\n",
              "    .colab-df-convert {\n",
              "      background-color: #E8F0FE;\n",
              "      border: none;\n",
              "      border-radius: 50%;\n",
              "      cursor: pointer;\n",
              "      display: none;\n",
              "      fill: #1967D2;\n",
              "      height: 32px;\n",
              "      padding: 0 0 0 0;\n",
              "      width: 32px;\n",
              "    }\n",
              "\n",
              "    .colab-df-convert:hover {\n",
              "      background-color: #E2EBFA;\n",
              "      box-shadow: 0px 1px 2px rgba(60, 64, 67, 0.3), 0px 1px 3px 1px rgba(60, 64, 67, 0.15);\n",
              "      fill: #174EA6;\n",
              "    }\n",
              "\n",
              "    [theme=dark] .colab-df-convert {\n",
              "      background-color: #3B4455;\n",
              "      fill: #D2E3FC;\n",
              "    }\n",
              "\n",
              "    [theme=dark] .colab-df-convert:hover {\n",
              "      background-color: #434B5C;\n",
              "      box-shadow: 0px 1px 3px 1px rgba(0, 0, 0, 0.15);\n",
              "      filter: drop-shadow(0px 1px 2px rgba(0, 0, 0, 0.3));\n",
              "      fill: #FFFFFF;\n",
              "    }\n",
              "  </style>\n",
              "\n",
              "      <script>\n",
              "        const buttonEl =\n",
              "          document.querySelector('#df-1a9c1fb0-237b-4766-9b1e-e7e14a759e39 button.colab-df-convert');\n",
              "        buttonEl.style.display =\n",
              "          google.colab.kernel.accessAllowed ? 'block' : 'none';\n",
              "\n",
              "        async function convertToInteractive(key) {\n",
              "          const element = document.querySelector('#df-1a9c1fb0-237b-4766-9b1e-e7e14a759e39');\n",
              "          const dataTable =\n",
              "            await google.colab.kernel.invokeFunction('convertToInteractive',\n",
              "                                                     [key], {});\n",
              "          if (!dataTable) return;\n",
              "\n",
              "          const docLinkHtml = 'Like what you see? Visit the ' +\n",
              "            '<a target=\"_blank\" href=https://colab.research.google.com/notebooks/data_table.ipynb>data table notebook</a>'\n",
              "            + ' to learn more about interactive tables.';\n",
              "          element.innerHTML = '';\n",
              "          dataTable['output_type'] = 'display_data';\n",
              "          await google.colab.output.renderOutput(dataTable, element);\n",
              "          const docLink = document.createElement('div');\n",
              "          docLink.innerHTML = docLinkHtml;\n",
              "          element.appendChild(docLink);\n",
              "        }\n",
              "      </script>\n",
              "    </div>\n",
              "  </div>\n",
              "  "
            ]
          },
          "metadata": {},
          "execution_count": 189
        }
      ]
    },
    {
      "cell_type": "code",
      "source": [
        "death.dtypes"
      ],
      "metadata": {
        "id": "9KF8cBrpFtKG",
        "colab": {
          "base_uri": "https://localhost:8080/"
        },
        "outputId": "acc30fad-232d-4415-9c0b-1a72057e0b3d"
      },
      "execution_count": null,
      "outputs": [
        {
          "output_type": "execute_result",
          "data": {
            "text/plain": [
              "age                      float64\n",
              "sex                      float64\n",
              "highest_qualification    float64\n",
              "rural                      int64\n",
              "disability_status        float64\n",
              "is_water_filter          float64\n",
              "chew                     float64\n",
              "smoke                    float64\n",
              "alcohol                  float64\n",
              "treatment_source         float64\n",
              "dtype: object"
            ]
          },
          "metadata": {},
          "execution_count": 190
        }
      ]
    },
    {
      "cell_type": "code",
      "source": [
        "l = [\"age\",\"sex\", \"highest_qualification\", \"rural\", \"disability_status\", \"is_water_filter\", \"chew\", \"smoke\", \"alcohol\",\"treatment_source\"]"
      ],
      "metadata": {
        "id": "zu-tYsnB73m_"
      },
      "execution_count": null,
      "outputs": []
    },
    {
      "cell_type": "code",
      "source": [],
      "metadata": {
        "id": "CVPNwD-r73vy"
      },
      "execution_count": null,
      "outputs": []
    },
    {
      "cell_type": "code",
      "source": [
        "death.info()"
      ],
      "metadata": {
        "colab": {
          "base_uri": "https://localhost:8080/"
        },
        "id": "9FPtIo1l73tz",
        "outputId": "ad729fec-4fee-4415-d5fd-9b0d4355c9c1"
      },
      "execution_count": null,
      "outputs": [
        {
          "output_type": "stream",
          "name": "stdout",
          "text": [
            "<class 'pandas.core.frame.DataFrame'>\n",
            "RangeIndex: 25175 entries, 0 to 25174\n",
            "Data columns (total 10 columns):\n",
            " #   Column                 Non-Null Count  Dtype  \n",
            "---  ------                 --------------  -----  \n",
            " 0   age                    25175 non-null  float64\n",
            " 1   sex                    25175 non-null  float64\n",
            " 2   highest_qualification  25175 non-null  float64\n",
            " 3   rural                  25175 non-null  int64  \n",
            " 4   disability_status      25175 non-null  float64\n",
            " 5   is_water_filter        25175 non-null  float64\n",
            " 6   chew                   25175 non-null  float64\n",
            " 7   smoke                  25175 non-null  float64\n",
            " 8   alcohol                25175 non-null  float64\n",
            " 9   treatment_source       25175 non-null  float64\n",
            "dtypes: float64(9), int64(1)\n",
            "memory usage: 1.9 MB\n"
          ]
        }
      ]
    },
    {
      "cell_type": "code",
      "source": [],
      "metadata": {
        "id": "BVqWKKmGPCQ_"
      },
      "execution_count": null,
      "outputs": []
    },
    {
      "cell_type": "code",
      "source": [],
      "metadata": {
        "id": "YFb_zMc7PCLh"
      },
      "execution_count": null,
      "outputs": []
    },
    {
      "cell_type": "code",
      "source": [],
      "metadata": {
        "id": "qvXqDADOPCJW"
      },
      "execution_count": null,
      "outputs": []
    },
    {
      "cell_type": "code",
      "source": [
        "X = death.drop('age',axis=1)\n",
        "y = death['age']"
      ],
      "metadata": {
        "id": "mnRcE9MRBZTK"
      },
      "execution_count": null,
      "outputs": []
    },
    {
      "cell_type": "code",
      "source": [
        "for i in X.columns:\n",
        "  print(i, X[i].unique())\n",
        "  print(\"\\n\")"
      ],
      "metadata": {
        "colab": {
          "base_uri": "https://localhost:8080/"
        },
        "id": "tFHFvoz0NJbL",
        "outputId": "d4e718c2-0d22-49a7-9a13-732a21cbed2f"
      },
      "execution_count": null,
      "outputs": [
        {
          "output_type": "stream",
          "name": "stdout",
          "text": [
            "sex [1. 2.]\n",
            "\n",
            "\n",
            "highest_qualification [4. 0. 3. 2. 5. 7. 8. 6. 1. 9.]\n",
            "\n",
            "\n",
            "rural [1 2]\n",
            "\n",
            "\n",
            "disability_status [0. 7. 5. 6. 1. 3. 2. 4.]\n",
            "\n",
            "\n",
            "is_water_filter [2. 1.]\n",
            "\n",
            "\n",
            "chew [7. 5. 1. 0. 3. 6. 2. 4.]\n",
            "\n",
            "\n",
            "smoke [4. 1. 0. 2. 3.]\n",
            "\n",
            "\n",
            "alcohol [4. 1. 2. 0. 3.]\n",
            "\n",
            "\n",
            "treatment_source [ 0.  9.  8.  6. 12.  2.  4. 99.  3. 10.  5.  1. 70. 65. 11.  7. 60.]\n",
            "\n",
            "\n"
          ]
        }
      ]
    },
    {
      "cell_type": "code",
      "source": [
        "for feature in X.columns:\n",
        "    data = X.copy()\n",
        "    plt.boxplot(data=data,x=feature)\n",
        "    plt.xlabel(feature)\n",
        "    plt.show()"
      ],
      "metadata": {
        "colab": {
          "base_uri": "https://localhost:8080/",
          "height": 1000
        },
        "id": "j5tWXFq5EMmt",
        "outputId": "99f2859e-cde6-4af2-fe75-91ff02ad5a29"
      },
      "execution_count": null,
      "outputs": [
        {
          "output_type": "display_data",
          "data": {
            "text/plain": [
              "<Figure size 640x480 with 1 Axes>"
            ],
            "image/png": "[encoded data removed]"
          },
          "metadata": {}
        },
        {
          "output_type": "display_data",
          "data": {
            "text/plain": [
              "<Figure size 640x480 with 1 Axes>"
            ],
            "image/png": "[encoded data removed]"
          },
          "metadata": {}
        },
        {
          "output_type": "display_data",
          "data": {
            "text/plain": [
              "<Figure size 640x480 with 1 Axes>"
            ],
            "image/png": "[encoded data removed]"
          },
          "metadata": {}
        },
        {
          "output_type": "display_data",
          "data": {
            "text/plain": [
              "<Figure size 640x480 with 1 Axes>"
            ],
            "image/png": "[encoded data removed]"
          },
          "metadata": {}
        },
        {
          "output_type": "display_data",
          "data": {
            "text/plain": [
              "<Figure size 640x480 with 1 Axes>"
            ],
            "image/png": "[encoded data removed]"
          },
          "metadata": {}
        },
        {
          "output_type": "display_data",
          "data": {
            "text/plain": [
              "<Figure size 640x480 with 1 Axes>"
            ],
            "image/png": "[encoded data removed]"
          },
          "metadata": {}
        },
        {
          "output_type": "display_data",
          "data": {
            "text/plain": [
              "<Figure size 640x480 with 1 Axes>"
            ],
            "image/png": "[encoded data removed]"
          },
          "metadata": {}
        },
        {
          "output_type": "display_data",
          "data": {
            "text/plain": [
              "<Figure size 640x480 with 1 Axes>"
            ],
            "image/png": "[encoded data removed]"
          },
          "metadata": {}
        },
        {
          "output_type": "display_data",
          "data": {
            "text/plain": [
              "<Figure size 640x480 with 1 Axes>"
            ],
            "image/png": "[encoded data removed]"
          },
          "metadata": {}
        }
      ]
    },
    {
      "cell_type": "code",
      "source": [
        "for feature in X.columns:\n",
        "    IQR= X[feature].quantile(0.75) - X[feature].quantile(0.25)\n",
        "    \n",
        "    lower_bridge = X[feature].quantile(0.25)-(IQR*1.5)\n",
        "    upper_bridge = X[feature].quantile(0.75)+(IQR*1.5)\n",
        "    \n",
        "    lower_bridge3 = X[feature].quantile(0.25)-(IQR*3)\n",
        "    upper_bridge3 = X[feature].quantile(0.75)+(IQR*3)\n",
        "    \n",
        "    \n",
        "    X.loc[X[feature]<=lower_bridge,feature] = lower_bridge\n",
        "    X.loc[X[feature]>=upper_bridge,feature] = upper_bridge\n",
        "    \n",
        "    "
      ],
      "metadata": {
        "id": "Uh_TXuKTQkMV"
      },
      "execution_count": null,
      "outputs": []
    },
    {
      "cell_type": "code",
      "source": [
        "for feature in X.columns:\n",
        "    data = X.copy()\n",
        "    plt.boxplot(data=data,x=feature)\n",
        "    plt.xlabel(feature)\n",
        "    plt.show()"
      ],
      "metadata": {
        "id": "Z2k7o7JvQkPw",
        "colab": {
          "base_uri": "https://localhost:8080/",
          "height": 1000
        },
        "outputId": "4ac55820-902b-4b33-b41a-362e58ff5ce9"
      },
      "execution_count": null,
      "outputs": [
        {
          "output_type": "display_data",
          "data": {
            "text/plain": [
              "<Figure size 640x480 with 1 Axes>"
            ],
            "image/png": "[encoded data removed]"
          },
          "metadata": {}
        },
        {
          "output_type": "display_data",
          "data": {
            "text/plain": [
              "<Figure size 640x480 with 1 Axes>"
            ],
            "image/png": "[encoded data removed]"
          },
          "metadata": {}
        },
        {
          "output_type": "display_data",
          "data": {
            "text/plain": [
              "<Figure size 640x480 with 1 Axes>"
            ],
            "image/png": "[encoded data removed]"
          },
          "metadata": {}
        },
        {
          "output_type": "display_data",
          "data": {
            "text/plain": [
              "<Figure size 640x480 with 1 Axes>"
            ],
            "image/png": "[encoded data removed]"
          },
          "metadata": {}
        },
        {
          "output_type": "display_data",
          "data": {
            "text/plain": [
              "<Figure size 640x480 with 1 Axes>"
            ],
            "image/png": "[encoded data removed]"
          },
          "metadata": {}
        },
        {
          "output_type": "display_data",
          "data": {
            "text/plain": [
              "<Figure size 640x480 with 1 Axes>"
            ],
            "image/png": "[encoded data removed]"
          },
          "metadata": {}
        },
        {
          "output_type": "display_data",
          "data": {
            "text/plain": [
              "<Figure size 640x480 with 1 Axes>"
            ],
            "image/png": "[encoded data removed]"
          },
          "metadata": {}
        },
        {
          "output_type": "display_data",
          "data": {
            "text/plain": [
              "<Figure size 640x480 with 1 Axes>"
            ],
            "image/png": "[encoded data removed]"
          },
          "metadata": {}
        },
        {
          "output_type": "display_data",
          "data": {
            "text/plain": [
              "<Figure size 640x480 with 1 Axes>"
            ],
            "image/png": "[encoded data removed]"
          },
          "metadata": {}
        }
      ]
    },
    {
      "cell_type": "code",
      "source": [],
      "metadata": {
        "id": "tN1321zzQkTI"
      },
      "execution_count": null,
      "outputs": []
    },
    {
      "cell_type": "code",
      "source": [
        "len(list(X.columns))"
      ],
      "metadata": {
        "colab": {
          "base_uri": "https://localhost:8080/"
        },
        "id": "dA7CZB0VCOd-",
        "outputId": "8b8ad0cf-a23d-48a6-a906-f57fd765b397"
      },
      "execution_count": null,
      "outputs": [
        {
          "output_type": "execute_result",
          "data": {
            "text/plain": [
              "9"
            ]
          },
          "metadata": {},
          "execution_count": 198
        }
      ]
    },
    {
      "cell_type": "code",
      "source": [
        "from sklearn.model_selection import train_test_split\n",
        "X_train,X_test,y_train,y_test = train_test_split(X,y,test_size=0.22,random_state=42,shuffle=True)"
      ],
      "metadata": {
        "id": "ZtQe8aIA73x4"
      },
      "execution_count": null,
      "outputs": []
    },
    {
      "cell_type": "code",
      "source": [],
      "metadata": {
        "id": "gb69pRfkELlf"
      },
      "execution_count": null,
      "outputs": []
    },
    {
      "cell_type": "code",
      "source": [
        "from sklearn.preprocessing import StandardScaler\n",
        "sc = StandardScaler()\n",
        "X_train_scaled = sc.fit_transform(X_train)\n",
        "X_test_scaled = sc.fit_transform(X_test)"
      ],
      "metadata": {
        "id": "Pe7iDI1l734A"
      },
      "execution_count": null,
      "outputs": []
    },
    {
      "cell_type": "code",
      "source": [
        "### Creating ANN\n",
        "\n",
        "from tensorflow.keras.models import Sequential\n",
        "from tensorflow.keras.layers import Dense\n",
        "from tensorflow.keras.layers import LeakyReLU,PReLU,ELU,ReLU\n",
        "from tensorflow.keras.layers import Dropout"
      ],
      "metadata": {
        "id": "HfT_YN_p734-"
      },
      "execution_count": null,
      "outputs": []
    },
    {
      "cell_type": "code",
      "source": [
        "from tensorflow.keras.losses import MeanSquaredError\n",
        "from tensorflow.keras.metrics import RootMeanSquaredError"
      ],
      "metadata": {
        "id": "ODiwGDzeGz6O"
      },
      "execution_count": null,
      "outputs": []
    },
    {
      "cell_type": "code",
      "source": [
        "reg = Sequential()"
      ],
      "metadata": {
        "id": "bMFa7B0k7357"
      },
      "execution_count": null,
      "outputs": []
    },
    {
      "cell_type": "code",
      "source": [
        "import tensorflow\n",
        "opt=tensorflow.keras.optimizers.Adam(learning_rate=0.01)"
      ],
      "metadata": {
        "id": "k-8-1NrOFOcG"
      },
      "execution_count": null,
      "outputs": []
    },
    {
      "cell_type": "code",
      "source": [
        "bias=tensorflow.keras.initializers.HeNormal()"
      ],
      "metadata": {
        "id": "RAnIJ_VDGh3x"
      },
      "execution_count": null,
      "outputs": []
    },
    {
      "cell_type": "code",
      "source": [
        "# Adding the first hidden layer\n",
        "reg.add(Dense(units= 10, kernel_initializer = 'he_normal',activation='relu',input_dim = 9))\n",
        "#reg.add(Dropout(0.3))\n",
        "\n",
        "# Adding the second hidden layer\n",
        "reg.add(Dense(units = 20, kernel_initializer = 'he_normal',activation='relu',use_bias=True,bias_initializer=bias))\n",
        "#reg.add(Dropout(0.5))\n",
        "\n",
        "# Adding the third hidden layer\n",
        "reg.add(Dense(units = 10, kernel_initializer = 'he_normal',activation='relu'))\n",
        "reg.add(Dropout(0.3))\n",
        "\n",
        "# Adding the output layer\n",
        "reg.add(Dense(1,kernel_initializer=\"he_normal\"))\n"
      ],
      "metadata": {
        "id": "AD2S0j9bCJ6Z"
      },
      "execution_count": null,
      "outputs": []
    },
    {
      "cell_type": "code",
      "source": [
        "reg.summary()"
      ],
      "metadata": {
        "colab": {
          "base_uri": "https://localhost:8080/"
        },
        "id": "yWkhoDUYLlzN",
        "outputId": "00314e0f-f4f6-4d7b-f7ea-4fad2094464b"
      },
      "execution_count": null,
      "outputs": [
        {
          "output_type": "stream",
          "name": "stdout",
          "text": [
            "Model: \"sequential\"\n",
            "_________________________________________________________________\n",
            " Layer (type)                Output Shape              Param #   \n",
            "=================================================================\n",
            " dense (Dense)               (None, 10)                100       \n",
            "                                                                 \n",
            " dense_1 (Dense)             (None, 20)                220       \n",
            "                                                                 \n",
            " dense_2 (Dense)             (None, 10)                210       \n",
            "                                                                 \n",
            " dropout (Dropout)           (None, 10)                0         \n",
            "                                                                 \n",
            " dense_3 (Dense)             (None, 1)                 11        \n",
            "                                                                 \n",
            "=================================================================\n",
            "Total params: 541\n",
            "Trainable params: 541\n",
            "Non-trainable params: 0\n",
            "_________________________________________________________________\n"
          ]
        }
      ]
    },
    {
      "cell_type": "code",
      "source": [
        "# Compiling the ANN\n",
        "reg.compile(optimizer = opt,loss=MeanSquaredError(),metrics=RootMeanSquaredError())"
      ],
      "metadata": {
        "id": "2MshB9lDD5UW"
      },
      "execution_count": null,
      "outputs": []
    },
    {
      "cell_type": "code",
      "source": [
        "learning=reg.fit(X_train,y_train,epochs=30,batch_size=32,verbose=1)"
      ],
      "metadata": {
        "colab": {
          "base_uri": "https://localhost:8080/"
        },
        "id": "56LTeyvjD5XZ",
        "outputId": "17673aaa-8780-49ac-c984-b695864d15fe"
      },
      "execution_count": null,
      "outputs": [
        {
          "output_type": "stream",
          "name": "stdout",
          "text": [
            "Epoch 1/30\n",
            "614/614 [==============================] - 11s 4ms/step - loss: 418.3388 - root_mean_squared_error: 20.4533\n",
            "Epoch 2/30\n",
            "614/614 [==============================] - 2s 3ms/step - loss: 359.3832 - root_mean_squared_error: 18.9574\n",
            "Epoch 3/30\n",
            "614/614 [==============================] - 2s 3ms/step - loss: 338.7497 - root_mean_squared_error: 18.4052\n",
            "Epoch 4/30\n",
            "614/614 [==============================] - 2s 3ms/step - loss: 315.1592 - root_mean_squared_error: 17.7527\n",
            "Epoch 5/30\n",
            "614/614 [==============================] - 2s 3ms/step - loss: 295.9488 - root_mean_squared_error: 17.2032\n",
            "Epoch 6/30\n",
            "614/614 [==============================] - 3s 5ms/step - loss: 276.4825 - root_mean_squared_error: 16.6278\n",
            "Epoch 7/30\n",
            "614/614 [==============================] - 2s 4ms/step - loss: 266.9357 - root_mean_squared_error: 16.3382\n",
            "Epoch 8/30\n",
            "614/614 [==============================] - 2s 3ms/step - loss: 252.9470 - root_mean_squared_error: 15.9043\n",
            "Epoch 9/30\n",
            "614/614 [==============================] - 2s 3ms/step - loss: 243.4866 - root_mean_squared_error: 15.6041\n",
            "Epoch 10/30\n",
            "614/614 [==============================] - 2s 3ms/step - loss: 236.6570 - root_mean_squared_error: 15.3837\n",
            "Epoch 11/30\n",
            "614/614 [==============================] - 2s 4ms/step - loss: 227.5487 - root_mean_squared_error: 15.0847\n",
            "Epoch 12/30\n",
            "614/614 [==============================] - 3s 5ms/step - loss: 223.0507 - root_mean_squared_error: 14.9349\n",
            "Epoch 13/30\n",
            "614/614 [==============================] - 2s 4ms/step - loss: 219.8622 - root_mean_squared_error: 14.8278\n",
            "Epoch 14/30\n",
            "614/614 [==============================] - 2s 3ms/step - loss: 217.1551 - root_mean_squared_error: 14.7362\n",
            "Epoch 15/30\n",
            "614/614 [==============================] - 2s 3ms/step - loss: 214.7704 - root_mean_squared_error: 14.6550\n",
            "Epoch 16/30\n",
            "614/614 [==============================] - 2s 3ms/step - loss: 212.8592 - root_mean_squared_error: 14.5897\n",
            "Epoch 17/30\n",
            "614/614 [==============================] - 3s 6ms/step - loss: 211.3488 - root_mean_squared_error: 14.5378\n",
            "Epoch 18/30\n",
            "614/614 [==============================] - 3s 5ms/step - loss: 210.6054 - root_mean_squared_error: 14.5122\n",
            "Epoch 19/30\n",
            "614/614 [==============================] - 2s 4ms/step - loss: 209.1992 - root_mean_squared_error: 14.4637\n",
            "Epoch 20/30\n",
            "614/614 [==============================] - 2s 4ms/step - loss: 208.8908 - root_mean_squared_error: 14.4531\n",
            "Epoch 21/30\n",
            "614/614 [==============================] - 2s 3ms/step - loss: 207.7148 - root_mean_squared_error: 14.4123\n",
            "Epoch 22/30\n",
            "614/614 [==============================] - 2s 3ms/step - loss: 207.9325 - root_mean_squared_error: 14.4199\n",
            "Epoch 23/30\n",
            "614/614 [==============================] - 3s 5ms/step - loss: 207.4927 - root_mean_squared_error: 14.4046\n",
            "Epoch 24/30\n",
            "614/614 [==============================] - 3s 5ms/step - loss: 207.3214 - root_mean_squared_error: 14.3987\n",
            "Epoch 25/30\n",
            "614/614 [==============================] - 2s 3ms/step - loss: 206.8900 - root_mean_squared_error: 14.3837\n",
            "Epoch 26/30\n",
            "614/614 [==============================] - 2s 4ms/step - loss: 206.6974 - root_mean_squared_error: 14.3770\n",
            "Epoch 27/30\n",
            "614/614 [==============================] - 2s 3ms/step - loss: 207.3012 - root_mean_squared_error: 14.3980\n",
            "Epoch 28/30\n",
            "614/614 [==============================] - 2s 3ms/step - loss: 206.8655 - root_mean_squared_error: 14.3828\n",
            "Epoch 29/30\n",
            "614/614 [==============================] - 3s 5ms/step - loss: 206.4744 - root_mean_squared_error: 14.3692\n",
            "Epoch 30/30\n",
            "614/614 [==============================] - 2s 4ms/step - loss: 207.0911 - root_mean_squared_error: 14.3907\n"
          ]
        }
      ]
    },
    {
      "cell_type": "code",
      "source": [],
      "metadata": {
        "id": "sxtje5UQD5a_"
      },
      "execution_count": null,
      "outputs": []
    },
    {
      "cell_type": "code",
      "source": [],
      "metadata": {
        "id": "5LH1N2iQCJ9p"
      },
      "execution_count": null,
      "outputs": []
    },
    {
      "cell_type": "code",
      "source": [],
      "metadata": {
        "id": "evSh3SEpCKBN"
      },
      "execution_count": null,
      "outputs": []
    },
    {
      "cell_type": "code",
      "source": [],
      "metadata": {
        "id": "SGLudlS6CKEt"
      },
      "execution_count": null,
      "outputs": []
    },
    {
      "cell_type": "code",
      "source": [],
      "metadata": {
        "id": "mSqasKuW73-f"
      },
      "execution_count": null,
      "outputs": []
    },
    {
      "cell_type": "code",
      "source": [],
      "metadata": {
        "id": "8jOEqZcg74A9"
      },
      "execution_count": null,
      "outputs": []
    },
    {
      "cell_type": "code",
      "source": [],
      "metadata": {
        "id": "tSQYRvQk74EP"
      },
      "execution_count": null,
      "outputs": []
    },
    {
      "cell_type": "code",
      "source": [
        "reg.weights"
      ],
      "metadata": {
        "id": "EX9x_DITjcsx",
        "outputId": "e32b3a0d-c487-4c57-a23d-5f24755f3885",
        "colab": {
          "base_uri": "https://localhost:8080/"
        }
      },
      "execution_count": null,
      "outputs": [
        {
          "output_type": "execute_result",
          "data": {
            "text/plain": [
              "[<tf.Variable 'dense/kernel:0' shape=(9, 10) dtype=float32, numpy=\n",
              " array([[-0.42205867, -0.11598896,  1.0028511 , -0.59827024, -0.01791003,\n",
              "          0.42125824,  0.64846843,  0.16953018,  0.06108323, -0.12632239],\n",
              "        [ 1.2961538 , -0.2666749 ,  0.07717639, -0.22310404, -0.30321983,\n",
              "         -0.2502579 , -4.8823924 , -0.12840763,  2.270069  ,  0.6772874 ],\n",
              "        [-1.5237007 , -0.5885168 ,  1.3030206 , -0.01442585,  0.08770096,\n",
              "          1.2748373 , -0.21643056,  0.8807083 ,  0.13943432, -1.344709  ],\n",
              "        [-0.17458835,  1.0445666 , -0.5614272 , -0.04010043, -0.49452138,\n",
              "         -0.25784656,  0.13752596, -0.24309233,  0.17385454, -0.32306013],\n",
              "        [-1.6418581 , -0.30008322,  1.5094637 , -0.19330156, -0.92092127,\n",
              "          1.1207584 ,  0.1540469 ,  1.1554065 , -0.61957633, -0.84801245],\n",
              "        [ 1.2963798 , -0.6090317 , -2.472511  ,  0.48137763,  0.20252466,\n",
              "         -0.99802434, -1.1299684 ,  0.77465606, -0.85119003,  0.08056909],\n",
              "        [ 0.16909552, -0.08827108, -0.07174101, -0.887743  ,  0.72986287,\n",
              "          0.2169681 ,  1.2383736 , -2.47459   , -0.77867943, -2.0332484 ],\n",
              "        [-0.83806044, -0.6314614 ,  1.4115831 , -0.41376045, -0.68816084,\n",
              "          0.8320881 ,  0.67899716, -0.4551703 ,  0.08637683, -0.6597639 ],\n",
              "        [ 0.10355547,  0.14129527, -0.01445358, -0.0581182 , -0.18637711,\n",
              "          0.11855837,  0.11755835,  0.07769296,  0.21233214, -0.26970226]],\n",
              "       dtype=float32)>,\n",
              " <tf.Variable 'dense/bias:0' shape=(10,) dtype=float32, numpy=\n",
              " array([-1.0101275 , -0.34955427,  0.92638624, -0.20208393, -0.13409142,\n",
              "         0.8210902 ,  0.07394888,  0.14646699, -0.1900608 , -0.9397385 ],\n",
              "       dtype=float32)>,\n",
              " <tf.Variable 'dense_1/kernel:0' shape=(10, 20) dtype=float32, numpy=\n",
              " array([[-5.26240289e-01, -3.60105228e+00, -1.02103090e+00,\n",
              "         -7.65409291e-01, -4.92838264e-01, -2.17075571e-01,\n",
              "         -2.00110102e+00, -8.98728132e-01, -2.91285068e-01,\n",
              "         -7.59251341e-02, -3.43894094e-01, -6.81985736e-01,\n",
              "         -3.60340625e-01, -4.61940765e-02, -3.84336650e-01,\n",
              "         -8.83848429e-01, -3.85331392e-01, -2.62759984e-01,\n",
              "         -5.10760546e-01, -1.38360190e+00],\n",
              "        [-5.99097729e-01, -8.96348339e-03,  1.16944639e-02,\n",
              "         -1.10922486e-01,  1.09983206e+00, -5.10120869e-01,\n",
              "          1.06912839e+00,  6.11530960e-01, -2.81839073e-02,\n",
              "         -5.81498682e-01, -6.48454964e-01, -3.87168556e-01,\n",
              "         -1.99190170e-01,  7.12994859e-02, -1.72488555e-01,\n",
              "         -3.58930260e-01,  4.20023918e-01,  2.19999477e-02,\n",
              "         -1.38471931e-01,  2.33382568e-01],\n",
              "        [-8.91154230e-01,  4.52918440e-01, -1.74810982e+00,\n",
              "         -5.58555007e-01, -2.16248155e-01, -4.93135840e-01,\n",
              "          6.75924242e-01,  3.60633800e-04, -2.75575399e-01,\n",
              "          4.69468087e-02, -3.67863798e+00, -5.52076399e-01,\n",
              "         -2.18985438e+00, -1.77869570e+00, -1.75076902e-01,\n",
              "         -9.25498754e-02, -2.48586312e-01, -2.60984689e-01,\n",
              "         -3.51310635e+00, -6.35638952e-01],\n",
              "        [-1.19489622e+00, -7.32621327e-02, -7.04485834e-01,\n",
              "         -3.31580013e-01,  7.63987526e-02,  3.62416327e-01,\n",
              "         -3.52193743e-01, -1.97256401e-01,  3.87251265e-02,\n",
              "         -9.66057181e-01,  5.40176332e-01,  4.66522127e-01,\n",
              "          1.51351362e-01, -2.42820099e-01, -2.11864263e-01,\n",
              "          1.55120283e-01,  1.07361421e-01,  1.42292291e-01,\n",
              "         -3.58200729e-01,  1.77831829e-01],\n",
              "        [ 2.84909397e-01, -2.65011847e-01, -5.72123826e-01,\n",
              "         -2.07928598e-01,  5.83076537e-01,  2.06983835e-01,\n",
              "          5.28981328e-01, -2.19030842e-01,  1.30394995e-01,\n",
              "         -4.77994412e-01,  6.95442796e-01,  1.00120911e-02,\n",
              "          1.01623841e-01, -5.78118682e-01, -1.88214093e-01,\n",
              "          1.84254482e-01,  5.49852178e-02,  3.52015346e-01,\n",
              "          4.35221463e-01, -2.99557537e-01],\n",
              "        [-3.75409305e-01, -1.75033838e-01, -3.05138379e-01,\n",
              "         -1.14326549e+00, -4.02258188e-01, -2.05938429e-01,\n",
              "         -7.07174420e-01, -1.14289246e-01, -8.82012188e-01,\n",
              "         -7.95650125e-01,  2.69222379e-01, -8.06291163e-01,\n",
              "          3.43175024e-01, -1.19618452e+00, -1.92831159e-01,\n",
              "         -1.61105704e+00, -3.65832783e-02, -7.77890205e-01,\n",
              "          2.35473052e-01, -8.59084010e-01],\n",
              "        [-7.39302397e-01,  7.99968719e-01,  8.48782808e-02,\n",
              "         -2.11679548e-01,  7.39140436e-02, -4.49961089e-02,\n",
              "          2.50100434e-01, -5.49419343e-01, -1.69773415e-01,\n",
              "         -1.04588576e-01,  7.70673007e-02, -2.39848793e-01,\n",
              "          1.05110742e-01, -2.55648941e-01, -1.97643921e-01,\n",
              "         -7.28435397e-01,  6.59097880e-02, -1.09778740e-01,\n",
              "          1.66769028e-01,  1.75497860e-01],\n",
              "        [ 3.26545388e-02, -8.62442970e-01, -9.77275491e-01,\n",
              "         -1.24348402e-01, -6.65804505e-01, -6.02481246e-01,\n",
              "         -3.38927197e+00, -4.06879455e-01,  2.78342217e-01,\n",
              "         -2.52687931e-01,  2.02264443e-01, -2.56361157e-01,\n",
              "         -8.95456910e-01,  4.57991809e-01, -5.16471446e-01,\n",
              "         -5.40426075e-01, -1.89313799e-01,  2.74234172e-02,\n",
              "          8.22704211e-02, -2.30649896e-02],\n",
              "        [-3.14014196e-01, -2.21497267e-01, -3.49233523e-02,\n",
              "          1.81135908e-01,  6.63986802e-02, -4.79504734e-01,\n",
              "         -1.16103971e+00, -2.66886055e-01,  5.37999868e-01,\n",
              "         -7.61036694e-01,  8.09900165e-01, -2.48708442e-01,\n",
              "          2.97414273e-01, -3.46588433e-01, -9.00681913e-02,\n",
              "          1.27794549e-01, -9.76833880e-01, -1.38033676e+00,\n",
              "         -1.81570160e+00,  8.65070522e-02],\n",
              "        [-9.90232587e-01, -1.12406807e-02,  3.88006181e-01,\n",
              "         -7.17408657e-01,  7.15419352e-01, -9.14298519e-02,\n",
              "         -4.11721706e-01,  8.10807168e-01, -1.09641127e-01,\n",
              "         -7.12519169e-01,  2.52150923e-01, -3.59228939e-01,\n",
              "          2.32379779e-01,  6.35750353e-01,  1.30741537e-01,\n",
              "          4.65058506e-01, -6.02609329e-02,  1.60073769e+00,\n",
              "          5.66134393e-01, -8.17532122e-01]], dtype=float32)>,\n",
              " <tf.Variable 'dense_1/bias:0' shape=(20,) dtype=float32, numpy=\n",
              " array([-0.3112573 , -0.38444877,  0.2686338 , -0.6986907 ,  0.5607995 ,\n",
              "        -0.07171655, -0.6399693 , -0.16365872, -0.8128776 , -1.0112538 ,\n",
              "         2.04699   , -0.5068003 ,  1.9781578 , -0.8225426 , -0.2537697 ,\n",
              "         0.63059896, -0.40567297, -0.8282169 ,  2.765889  , -1.3672594 ],\n",
              "       dtype=float32)>,\n",
              " <tf.Variable 'dense_2/kernel:0' shape=(20, 10) dtype=float32, numpy=\n",
              " array([[ 2.73387849e-01, -1.02681741e-01, -2.09435672e-01,\n",
              "         -2.01162413e-01, -1.61421210e-01,  4.56378795e-03,\n",
              "          4.67582703e-01, -2.65830047e-02, -2.57158503e-02,\n",
              "          1.41019285e-01],\n",
              "        [ 2.82892793e-01,  7.38177747e-02,  1.78167313e-01,\n",
              "         -4.44449127e-01, -9.67558250e-02, -1.32004514e-01,\n",
              "         -6.79306015e-02,  4.23054278e-01, -3.32928568e-01,\n",
              "          2.38623574e-01],\n",
              "        [ 6.10131323e-02,  1.11968085e-01, -2.41684467e-01,\n",
              "         -7.83444345e-01, -1.68937951e-01,  3.10231298e-01,\n",
              "          3.66888121e-02,  5.21063944e-03, -3.82650465e-01,\n",
              "         -1.33132249e-01],\n",
              "        [-4.71237272e-01, -3.16293508e-01, -3.23279768e-01,\n",
              "          3.56428474e-01,  1.71660304e-01, -4.97718900e-01,\n",
              "         -2.11281821e-01, -2.34169930e-01, -2.02124774e-01,\n",
              "          2.05608889e-01],\n",
              "        [ 4.46018204e-02, -2.91945368e-01, -2.15749443e-01,\n",
              "         -8.90904307e-01, -6.54148877e-01, -8.28745544e-01,\n",
              "         -5.17962396e-01, -2.91777372e-01, -9.66749620e-03,\n",
              "         -1.28781632e-01],\n",
              "        [ 2.67949790e-01,  1.08945020e-01,  2.76903331e-01,\n",
              "         -3.02892089e-01,  6.68158531e-02, -6.89644575e-01,\n",
              "          3.31235856e-01, -7.49973729e-02,  2.80282736e-01,\n",
              "         -3.42048198e-01],\n",
              "        [-5.94079718e-02,  1.47013381e-01,  1.79627880e-01,\n",
              "         -3.18649650e-01, -1.41300084e-02, -5.12299597e-01,\n",
              "          7.66889080e-02,  8.62632275e-01, -4.22892660e-01,\n",
              "          2.76678979e-01],\n",
              "        [-1.45886898e-01,  7.32531697e-02, -4.80070652e-04,\n",
              "          1.07212216e-01, -8.18189085e-02, -1.36171252e-01,\n",
              "         -9.66612622e-02,  4.33099270e-03,  4.05709669e-02,\n",
              "          1.81944743e-02],\n",
              "        [ 5.15366614e-01, -2.42409512e-01, -1.05577752e-01,\n",
              "         -3.27825218e-01, -2.71633595e-01, -3.66354883e-01,\n",
              "          3.22846994e-02, -1.42991319e-01, -3.72463465e-01,\n",
              "          2.35199168e-01],\n",
              "        [-1.69803664e-01,  2.29456455e-01, -1.08128428e-01,\n",
              "          1.79144129e-01,  3.22187811e-01, -1.14764228e-01,\n",
              "         -5.45665435e-02, -1.77124828e-01, -1.92819789e-01,\n",
              "         -4.71009165e-01],\n",
              "        [ 4.79390740e-01,  3.84624273e-01,  6.24278903e-01,\n",
              "         -1.86190546e-01, -5.56306839e-01, -9.00002360e-01,\n",
              "         -3.07936549e-01,  2.41712257e-01, -2.63302624e-01,\n",
              "          4.99104708e-01],\n",
              "        [-3.36845934e-01, -6.71577930e-01, -1.47702351e-01,\n",
              "         -3.34296077e-01,  4.03647572e-01,  2.61108339e-01,\n",
              "          7.82093704e-02, -2.31423616e-01,  1.51561666e-03,\n",
              "          9.25616845e-02],\n",
              "        [ 3.76703739e-01,  5.24301887e-01,  6.74328148e-01,\n",
              "          6.60277456e-02, -9.52202082e-01, -5.09033442e-01,\n",
              "         -6.21275157e-02,  3.38048041e-01, -7.64768600e-01,\n",
              "          4.65471625e-01],\n",
              "        [-9.09382999e-02, -1.82279736e-01,  1.37016416e-01,\n",
              "          4.94624227e-02, -1.87620074e-01, -4.11553234e-01,\n",
              "         -3.25466931e-01,  1.44233555e-01, -5.49465239e-01,\n",
              "          1.88778758e-01],\n",
              "        [-1.58777893e-01,  4.08321284e-02, -3.73681933e-01,\n",
              "         -3.87715608e-01,  5.99035947e-03, -5.79410017e-01,\n",
              "         -1.25217363e-02,  5.29849716e-02, -1.74399376e-01,\n",
              "          3.24323267e-01],\n",
              "        [-7.37313867e-01, -9.99187171e-01, -4.75778192e-01,\n",
              "          2.23927215e-01, -8.15155268e-01, -6.85142875e-01,\n",
              "         -6.38427496e-01, -8.15561295e-01, -5.81072509e-01,\n",
              "         -5.90335310e-01],\n",
              "        [-2.46979017e-02,  6.91081882e-02, -2.69167870e-01,\n",
              "         -3.48155290e-01,  1.76731050e-01, -5.91414690e-01,\n",
              "         -7.75900364e-01,  2.09620401e-01, -8.79391059e-02,\n",
              "          1.05176814e-01],\n",
              "        [-3.96265090e-02, -9.64076724e-03,  2.25893617e-01,\n",
              "          3.47970352e-02, -6.98602140e-01, -7.36047998e-02,\n",
              "         -2.72685200e-01, -8.49460661e-01,  7.92918820e-03,\n",
              "         -2.83555746e-01],\n",
              "        [ 8.49985480e-01,  8.94610763e-01,  8.35246265e-01,\n",
              "         -1.20581257e+00,  2.06958681e-01,  8.38897824e-02,\n",
              "         -4.49151099e-02,  7.95959175e-01,  1.09100975e-02,\n",
              "          7.47938752e-01],\n",
              "        [ 7.01770037e-02, -1.01315536e-01, -1.15610905e-01,\n",
              "          7.34857798e-01, -1.13342382e-01,  1.44367144e-01,\n",
              "          2.41732616e-02, -2.35728383e-01,  5.45019984e-01,\n",
              "         -9.66176629e-01]], dtype=float32)>,\n",
              " <tf.Variable 'dense_2/bias:0' shape=(10,) dtype=float32, numpy=\n",
              " array([-0.10764555, -0.11426991, -0.06413786, -0.7084761 , -0.6488442 ,\n",
              "        -0.53650665, -0.52720475, -0.09325672, -0.743312  , -0.11247394],\n",
              "       dtype=float32)>,\n",
              " <tf.Variable 'dense_3/kernel:0' shape=(10, 1) dtype=float32, numpy=\n",
              " array([[ 0.26929784],\n",
              "        [ 0.29773024],\n",
              "        [ 0.3583497 ],\n",
              "        [-0.18850848],\n",
              "        [ 0.0271755 ],\n",
              "        [-0.15595934],\n",
              "        [-0.7814027 ],\n",
              "        [ 0.18708733],\n",
              "        [-0.4314259 ],\n",
              "        [ 0.26571512]], dtype=float32)>,\n",
              " <tf.Variable 'dense_3/bias:0' shape=(1,) dtype=float32, numpy=array([43.82599], dtype=float32)>]"
            ]
          },
          "metadata": {},
          "execution_count": 211
        }
      ]
    },
    {
      "cell_type": "code",
      "source": [
        "import joblib\n",
        "\n",
        "joblib.dump(reg,\"/content/sample_data/reg.pkl\")"
      ],
      "metadata": {
        "id": "pIIEs_lHme7t",
        "outputId": "3f713f9b-a916-43f1-a499-fb138b59c7a2",
        "colab": {
          "base_uri": "https://localhost:8080/"
        }
      },
      "execution_count": null,
      "outputs": [
        {
          "output_type": "execute_result",
          "data": {
            "text/plain": [
              "['/content/sample_data/reg.pkl']"
            ]
          },
          "metadata": {},
          "execution_count": 213
        }
      ]
    },
    {
      "cell_type": "code",
      "source": [
        "#loading\n",
        "p_model=joblib.load(\"/content/sample_data/reg.pkl\")"
      ],
      "metadata": {
        "id": "t0HmeF6EsKWp"
      },
      "execution_count": null,
      "outputs": []
    },
    {
      "cell_type": "code",
      "source": [
        "p_model.summary()"
      ],
      "metadata": {
        "id": "3CzqSjGYsWFb",
        "outputId": "1748f3aa-c9e5-4fa0-eea8-924e38c79d4a",
        "colab": {
          "base_uri": "https://localhost:8080/"
        }
      },
      "execution_count": null,
      "outputs": [
        {
          "output_type": "stream",
          "name": "stdout",
          "text": [
            "Model: \"sequential\"\n",
            "_________________________________________________________________\n",
            " Layer (type)                Output Shape              Param #   \n",
            "=================================================================\n",
            " dense (Dense)               (None, 10)                100       \n",
            "                                                                 \n",
            " dense_1 (Dense)             (None, 20)                220       \n",
            "                                                                 \n",
            " dense_2 (Dense)             (None, 10)                210       \n",
            "                                                                 \n",
            " dropout (Dropout)           (None, 10)                0         \n",
            "                                                                 \n",
            " dense_3 (Dense)             (None, 1)                 11        \n",
            "                                                                 \n",
            "=================================================================\n",
            "Total params: 541\n",
            "Trainable params: 541\n",
            "Non-trainable params: 0\n",
            "_________________________________________________________________\n"
          ]
        }
      ]
    },
    {
      "cell_type": "code",
      "source": [],
      "metadata": {
        "id": "MjuHLl6esYkT"
      },
      "execution_count": null,
      "outputs": []
    },
    {
      "cell_type": "code",
      "source": [
        "# save it as a h5 file\n",
        "\n",
        "\n",
        "from tensorflow.keras.models import load_model\n",
        "\n",
        "reg.save('drive/MyDrive/h5 files/reg.h5')"
      ],
      "metadata": {
        "id": "BLqEiXPIs84b"
      },
      "execution_count": null,
      "outputs": []
    },
    {
      "cell_type": "code",
      "source": [],
      "metadata": {
        "id": "0lCI43hIcf8F"
      },
      "execution_count": null,
      "outputs": []
    }
  ],
  "metadata": {
    "colab": {
      "provenance": [],
      "gpuType": "T4"
    },
    "kernelspec": {
      "display_name": "Python 3",
      "name": "python3"
    },
    "language_info": {
      "name": "python"
    },
    "accelerator": "GPU",
    "gpuClass": "standard"
  },
  "nbformat": 4,
  "nbformat_minor": 0
}